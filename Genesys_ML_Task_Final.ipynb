{
 "cells": [
  {
   "cell_type": "markdown",
   "metadata": {},
   "source": [
    "# Best Result - Random Forest Classifier - 87% Accuracy\n",
    "The random Forest classifier aachieved an impressive result of 87% and the following are a list of steps that were carried out to achieve this result\n",
    "1. Cleaning of the dataset including the removal of missing data points and turning cateogtical data into numerical data.\n",
    "2. Feature Selection -  Removal of features that are not required.\n",
    "3. Feature Engineering - The creation of a new 'Duration' feature to replace the 'CallStart' and 'CallEnd' features.\n",
    "4. Feature Scaling - Put all features into a similar range through Mix-Max Normalization. \n",
    "5. Random Over-Sampling to deal with the imbalance in the positive and negative training cases. \n",
    "6. K-Fold Cross Validation Testing to get accurate results.\n",
    "7. Hyperparameter Tuning using Grid-Search.\n",
    "8. Model Analysis using ROC curves, AUROC score, Confusion Matrices, Precision, Recall and F1-Scores.\n",
    "\n",
    "It is also worth noting that while the Random Forest gives a higher accuracy, the cost of getting a sample wrong and making a phone call to a person who would not but the insurance is much less than the cost of not calling a person who would but the insurance. Therefore I believe it is much more important to increase True Positives and decrease False Negatives and therefore the Boosting algorithm, with a lower accuracy, is actually the better algorithm. Essentially we are aiming to maximise Recall in the positive class.\n",
    "\n",
    "The unit tests for the REST API are located at the bottom of this notebook."
   ]
  },
  {
   "cell_type": "code",
   "execution_count": 68,
   "metadata": {},
   "outputs": [],
   "source": [
    "#Bring in all the imports we will use \n",
    "import pickle as p \n",
    "from sklearn.preprocessing import MinMaxScaler\n",
    "from sklearn.preprocessing import OrdinalEncoder\n",
    "from sklearn.model_selection import train_test_split\n",
    "from sklearn import preprocessing\n",
    "import pandas as pd \n",
    "import seaborn as sns\n",
    "import numpy as np\n",
    "\n",
    "from sklearn.linear_model import LogisticRegression\n",
    "from sklearn import svm, metrics\n",
    "from sklearn.metrics import accuracy_score\n",
    "from sklearn.ensemble import RandomForestClassifier, VotingClassifier, GradientBoostingClassifier, AdaBoostClassifier\n",
    "from sklearn.neighbors import KNeighborsClassifier\n",
    "from sklearn.tree import DecisionTreeClassifier\n",
    "from sklearn.discriminant_analysis import LinearDiscriminantAnalysis\n",
    "from sklearn.naive_bayes import MultinomialNB\n",
    "from sklearn.model_selection import KFold, GridSearchCV\n",
    "from sklearn import model_selection\n",
    "from sklearn.metrics import confusion_matrix, classification_report\n",
    "import scikitplot as skplt\n",
    "import matplotlib.pyplot as plt\n",
    "from sklearn.metrics import plot_confusion_matrix\n",
    "\n",
    "import imblearn\n",
    "from imblearn.over_sampling import RandomOverSampler\n",
    "from imblearn.under_sampling import RandomUnderSampler"
   ]
  },
  {
   "cell_type": "code",
   "execution_count": null,
   "metadata": {},
   "outputs": [],
   "source": [
    "#Remove the warnings that are gotten while doing K-Fold Cross Validation\n",
    "import warnings\n",
    "warnings.filterwarnings('ignore')"
   ]
  },
  {
   "cell_type": "code",
   "execution_count": 38,
   "metadata": {},
   "outputs": [],
   "source": [
    "#Read the training and test files\n",
    "train_df = pd.read_csv('C:/Users/lhaye/Documents/Genesys_Task_Dataset/carInsurance_train.csv')\n",
    "test_df = pd.read_csv('C:/Users/lhaye/Documents/Genesys_Task_Dataset/carInsurance_test.csv')\n",
    "\n",
    "\n",
    "#LETS PUT THE COLUMNS INTO A LIST SO WE CAN SEE WHICH ONES CORRESPOND TO FEATURES AND WHICH TO \n",
    "columns = train_df.columns.tolist()\n",
    "feature_columns = columns[:-1]\n",
    "output_column = columns[-1:]\n",
    "num_train_samples = train_df.shape[0]\n",
    "print(\"We number of training samples we have is : \", num_train_samples)\n",
    "print(\"The number of features we have is : \", )"
   ]
  },
  {
   "cell_type": "markdown",
   "metadata": {},
   "source": [
    "# Data Analysis"
   ]
  },
  {
   "cell_type": "code",
   "execution_count": 48,
   "metadata": {},
   "outputs": [
    {
     "name": "stdout",
     "output_type": "stream",
     "text": [
      "(4000, 20)\n"
     ]
    }
   ],
   "source": [
    "print(train_df.shape)"
   ]
  },
  {
   "cell_type": "code",
   "execution_count": 49,
   "metadata": {},
   "outputs": [
    {
     "name": "stdout",
     "output_type": "stream",
     "text": [
      "<bound method DataFrame.info of         Id  Age   Job  Marital  Education  Default  Balance  HHInsurance  \\\n",
      "0        1   32   5.0      2.0        3.0        0     1218            1   \n",
      "1        2   32   2.0      1.0        1.0        0     1156            1   \n",
      "2        3   29   5.0      2.0        3.0        0      637            1   \n",
      "3        4   25   9.0      2.0        1.0        0      373            1   \n",
      "4        5   30   5.0      1.0        3.0        0     2694            0   \n",
      "...    ...  ...   ...      ...        ...      ...      ...          ...   \n",
      "3995  3996   28  10.0      2.0        3.0        0        0            1   \n",
      "3996  3997   49   1.0      0.0        2.0        0      124            1   \n",
      "3997  3998   27   1.0      2.0        2.0        0     -400            0   \n",
      "3998  3999   36   3.0      2.0        3.0        0      658            1   \n",
      "3999  4000   45   8.0      1.0        1.0        0      137            1   \n",
      "\n",
      "      CarLoan  Communication  LastContactDay LastContactMonth  NoOfContacts  \\\n",
      "0           0            2.0              28              jan             2   \n",
      "1           0            0.0              26              may             5   \n",
      "2           0            1.0               3              jun             1   \n",
      "3           0            1.0              11              may             2   \n",
      "4           0            1.0               3              jun             1   \n",
      "...       ...            ...             ...              ...           ...   \n",
      "3995        0            1.0              25              may             1   \n",
      "3996        1            1.0              29              jul            19   \n",
      "3997        1            1.0               8              jul             1   \n",
      "3998        0            1.0              29              jan             1   \n",
      "3999        0            0.0               9              may             2   \n",
      "\n",
      "      DaysPassed  PrevAttempts  Outcome  CallStart  CallEnd  CarInsurance  \\\n",
      "0             -1             0      0.0      49520    49590             0   \n",
      "1             -1             0      0.0      53343    53528             0   \n",
      "2            119             1      1.0      59424    59764             1   \n",
      "3             -1             0      0.0      43603    44422             1   \n",
      "4             -1             0      0.0      52544    52736             0   \n",
      "...          ...           ...      ...        ...      ...           ...   \n",
      "3995          40             2      1.0      63988    64257             1   \n",
      "3996          -1             0      0.0      53356    53481             0   \n",
      "3997          -1             0      0.0      44343    44633             0   \n",
      "3998         227             3      1.0      41255    41354             0   \n",
      "3999          -1             0      0.0      48708    48982             0   \n",
      "\n",
      "      CallDuration  \n",
      "0               70  \n",
      "1              185  \n",
      "2              340  \n",
      "3              819  \n",
      "4              192  \n",
      "...            ...  \n",
      "3995           269  \n",
      "3996           125  \n",
      "3997           290  \n",
      "3998            99  \n",
      "3999           274  \n",
      "\n",
      "[4000 rows x 20 columns]>\n"
     ]
    }
   ],
   "source": [
    "#Check for cateorical features (Will have to change these to numeric values)\n",
    "print(train_df.info)"
   ]
  },
  {
   "cell_type": "code",
   "execution_count": 50,
   "metadata": {},
   "outputs": [
    {
     "name": "stdout",
     "output_type": "stream",
     "text": [
      "Id                    int64\n",
      "Age                   int64\n",
      "Job                 float64\n",
      "Marital             float64\n",
      "Education           float64\n",
      "Default               int64\n",
      "Balance               int64\n",
      "HHInsurance           int64\n",
      "CarLoan               int64\n",
      "Communication       float64\n",
      "LastContactDay        int64\n",
      "LastContactMonth     object\n",
      "NoOfContacts          int64\n",
      "DaysPassed            int64\n",
      "PrevAttempts          int64\n",
      "Outcome             float64\n",
      "CallStart             int64\n",
      "CallEnd               int64\n",
      "CarInsurance          int64\n",
      "CallDuration          int64\n",
      "dtype: object\n"
     ]
    }
   ],
   "source": [
    "#Check the data types and we can see that the object type represents a categorical feature which we will have to change\n",
    "print(train_df.dtypes)"
   ]
  },
  {
   "cell_type": "code",
   "execution_count": 52,
   "metadata": {},
   "outputs": [
    {
     "name": "stdout",
     "output_type": "stream",
     "text": [
      "Id                  0\n",
      "Age                 0\n",
      "Job                 0\n",
      "Marital             0\n",
      "Education           0\n",
      "Default             0\n",
      "Balance             0\n",
      "HHInsurance         0\n",
      "CarLoan             0\n",
      "Communication       0\n",
      "LastContactDay      0\n",
      "LastContactMonth    0\n",
      "NoOfContacts        0\n",
      "DaysPassed          0\n",
      "PrevAttempts        0\n",
      "Outcome             0\n",
      "CallStart           0\n",
      "CallEnd             0\n",
      "CarInsurance        0\n",
      "CallDuration        0\n",
      "dtype: int64\n"
     ]
    }
   ],
   "source": [
    "#Look for any missing data samples\n",
    "print(train_df.isnull().sum())"
   ]
  },
  {
   "cell_type": "markdown",
   "metadata": {},
   "source": [
    "# Feature Visualization (Not enough time to carry out but ideas are explained)\n",
    "Ideally here we would do some analysis on the features to see how their values effect whether they decide to but the car insurance or not. For example I believe that the call duration feeature I have created is a feature that is likely to have a big output on the prediction. For each length of the call i.e. each minute, we could plot the split for how many customers whos call ended on that minute decided to buy/not buy the car insurance. I believe we would see the number that didn't buy being very high at the beginning and then this number would reduve while the number that would buy would increase. We could carry out such an analysis on mostly all of the features. Another important feature to analyse to me would be bank balance as I can imagine that as the bank balance goes up, people are more likely to purchase the insurance. We could carry this analysis out accross all the features and this would then give an idea as to what the important features are. "
   ]
  },
  {
   "cell_type": "markdown",
   "metadata": {},
   "source": [
    "# Data Preprocessing\n",
    "Here we carry out some preprocessing steps on the data in order to put it into the format that will result in the best results. The following steps were carried out:\n",
    "1. Removal of any missing data samples. These are denoted by Na or Nan. These are not usable in a machine learning algorithm and must be filtered out. In this eaxmple however, these occur in the categorical features meaning that the data can simply be given its own category if it is not available. Sometimes the data may be missing and in other cases it is not applicable.\n",
    "\n",
    "2. Check if there are any duplicate samples and we can see that in our case there are none. \n",
    "\n",
    "3. Change the categorical features to numeric. Machine learning algorithms deal with numbers and not strings so what we do here is assign each category a number. \n",
    "\n",
    "4. Check for outliers. I did some analysis to try and remove these but if we were to do so in this case there would be a huge number of samples missing. Outliers can have a big influence on the machine learning algorithms accuracy. I could have assigned bins in order to scale these down for example if x is less than 5000 and greater than 2500 give it a value of 2. I have decided to just apply Min-Max Normalization. This assigns the lowest value of the feature to 0 and then the maximum to 1 and every other value inbetween is scaled accordingly.\n",
    "\n",
    "5. Feature Scaling - As I just explained I carried out Min-Max Normalization to put all the features in the same range as not doing so can affect the accuracy of the algorithm.\n",
    "\n",
    "6. Feature Engineering - Created a 'Duration' feature to utilize two features that give very little information. This may help to increse accuracy as one could imagine that the longer a phone call was the more willing a customer would be to purchase a product. \n",
    "\n",
    "7. Removal of features that are not required. Some features are not independent and thus should be removed. "
   ]
  },
  {
   "cell_type": "code",
   "execution_count": 39,
   "metadata": {},
   "outputs": [],
   "source": [
    "#Lets get the preprocessed data and then make alterations to it based on the model score \n",
    "def preprocess_data(data):\n",
    " \n",
    "    #Check for duplicate data\n",
    "    duplicate_rows_df = data[data.duplicated()]\n",
    "    print('number of duplicate rows: ', duplicate_rows_df.shape)\n",
    "    \n",
    "    #Modify all data that is Na with a word to avoid difficulties \n",
    "    data['Education'] = data['Education'].fillna(\"NoVal\")\n",
    "    data['Job'] = data['Job'].fillna(\"NoVal\")\n",
    "    data['Communication'] = data['Communication'].fillna(\"NoVal\")\n",
    "    data['Outcome'] = data['Outcome'].fillna(\"NoVal\")\n",
    "\n",
    "    #We tranlsate the categorical labels into numeric labels \n",
    "    ord_enc = OrdinalEncoder()\n",
    "    data[\"Education\"] = ord_enc.fit_transform(data[[\"Education\"]])\n",
    "    data[\"Marital\"] = ord_enc.fit_transform(data[[\"Marital\"]])\n",
    "    data[\"Job\"] = ord_enc.fit_transform(data[[\"Job\"]])\n",
    "    data[\"Outcome\"] = ord_enc.fit_transform(data[[\"Outcome\"]])\n",
    "    data[\"Communication\"] = ord_enc.fit_transform(data[[\"Communication\"]])\n",
    "    \n",
    "    #Create a feature for the duration of the call \n",
    "    data['CallStart'] = pd.to_datetime(data[\"CallStart\"])\n",
    "    data['CallEnd'] = pd.to_datetime(data[\"CallEnd\"])\n",
    "    data['CallStart'] = (data['CallStart'].dt.hour*60+data['CallStart'].dt.minute)*60 + data['CallStart'].dt.second\n",
    "    data['CallEnd'] = (data['CallEnd'].dt.hour*60+data['CallEnd'].dt.minute)*60 + data['CallEnd'].dt.second\n",
    "    data['CallDuration'] = data['CallEnd'] - data['CallStart']\n",
    "    \n",
    "    #Now we should drop some features that we dont need \n",
    "    data = data.drop(['Id', 'LastContactDay', 'LastContactMonth', 'CallStart', 'CallEnd'], axis=1)\n",
    "    \n",
    "\n",
    "    #Feature Scaling - Min-Max Normalization of all features with high values \n",
    "    #Put them all in the same range \n",
    "    data['Balance'] = (data['Balance'] - data['Balance'].min()) / (data['Balance'].max() - data['Balance'].min())\n",
    "    data['NoOfContacts'] = (data['NoOfContacts'] - data['NoOfContacts'].min()) / (data['NoOfContacts'].max() - data['NoOfContacts'].min())\n",
    "    data['Age'] = (data['Age'] - data['Age'].min()) / (data['Age'].max() - data['Age'].min())\n",
    "    data['DaysPassed'] = (data['DaysPassed'] - data['DaysPassed'].min()) / (data['DaysPassed'].max() - data['DaysPassed'].min())\n",
    "    data['PrevAttempts'] = (data['PrevAttempts'] - data['PrevAttempts'].min()) / (data['PrevAttempts'].max() - data['PrevAttempts'].min())\n",
    "    data['CallDuration'] = (data['CallDuration'] - data['CallDuration'].min()) / (data['CallDuration'].max() - data['CallDuration'].min())\n",
    "    data['Job'] = (data['Job'] - data['Job'].min()) / (data['Job'].max() - data['Job'].min())\n",
    "    data['Education'] = (data['Education'] - data['Education'].min()) / (data['Education'].max() - data['Education'].min())\n",
    "    data['Marital'] = (data['Marital'] - data['Marital'].min()) / (data['Marital'].max() - data['Marital'].min())\n",
    "    data['Communication'] = (data['Communication'] - data['Communication'].min()) / (data['Communication'].max() - data['Communication'].min())\n",
    "    \n",
    "    return data"
   ]
  },
  {
   "cell_type": "code",
   "execution_count": 40,
   "metadata": {},
   "outputs": [],
   "source": [
    "#Take the training data and preprocess using the process outlined earlier\n",
    "x_train_processed = preprocess_data(train_df)\n",
    "#get the columns for the features into one list and the actual labels into another \n",
    "y_train_vals = train_df[output_column]\n",
    "x_train_processed = x_train_processed.drop(labels='CarInsurance', axis=1)"
   ]
  },
  {
   "cell_type": "code",
   "execution_count": 41,
   "metadata": {},
   "outputs": [],
   "source": [
    "#Split the data into a training and test set \n",
    "X_train, X_test, y_train, y_test = train_test_split(x_train_processed, y_train_vals, test_size=0.2, random_state=42)\n",
    "y_test = y_test['CarInsurance']"
   ]
  },
  {
   "cell_type": "markdown",
   "metadata": {},
   "source": [
    "# Test for an Imbalance in the training dataset \n",
    "As we can see from the result below, this dataset is imbalanced as there are many more negative samples than positive. "
   ]
  },
  {
   "cell_type": "code",
   "execution_count": 42,
   "metadata": {},
   "outputs": [
    {
     "name": "stdout",
     "output_type": "stream",
     "text": [
      "1912\n",
      "1288\n"
     ]
    }
   ],
   "source": [
    "zeros = y_train.loc[y_train['CarInsurance'] == 0]\n",
    "ones = y_train.loc[y_train['CarInsurance'] == 1]\n",
    "\n",
    "print(len(zeros))\n",
    "print(len(ones))"
   ]
  },
  {
   "cell_type": "markdown",
   "metadata": {},
   "source": [
    "# Handling Imbalanced Data \n",
    "I will try two approached here each of which has their strenghts and weaknesses:\n",
    "\n",
    "1. Random Under-Sampling\n",
    "2. Random Over-Sampling\n"
   ]
  },
  {
   "cell_type": "code",
   "execution_count": 43,
   "metadata": {},
   "outputs": [],
   "source": [
    "#Oversample the minority class\n",
    "oversample = RandomOverSampler(sampling_strategy='minority')\n",
    "X_over, y_over = oversample.fit_resample(X_train, y_train)\n",
    "\n",
    "#undersample the majority class\n",
    "undersample = RandomUnderSampler(sampling_strategy='majority')\n",
    "X_under, y_under = undersample.fit_resample(X_train, y_train)"
   ]
  },
  {
   "cell_type": "markdown",
   "metadata": {},
   "source": [
    "# K-Fold Cross Validation \n",
    "Here I have utilisex K-Fold Cross Validations as a means of testing which algorithm performs the best. This method involves splitting the data into several different folds or groups that will each be different from eachother. Each model will then be trained and tested on the same fold and I have selected to do this 10 times. This is done randomly and thus is a much better means of evaluating performance rather than just evaluating on one train-test split of the data. Doing so will not give a fair evaluation of the results."
   ]
  },
  {
   "cell_type": "code",
   "execution_count": 44,
   "metadata": {},
   "outputs": [
    {
     "name": "stdout",
     "output_type": "stream",
     "text": [
      "The Logistic Regression achieves a mean accuracy result of 79.59375 over a 10-fold validation set\n",
      "The Support Vector Machine Linear achieves a mean accuracy result of 80.09375000000001 over a 10-fold validation set\n",
      "The Support Vector Machine Rbf achieves a mean accuracy result of 77.18749999999999 over a 10-fold validation set\n",
      "The Support Vector Machine NuSVC achieves a mean accuracy result of 80.40625 over a 10-fold validation set\n",
      "The Random Forest achieves a mean accuracy result of 81.9375 over a 10-fold validation set\n",
      "The Decision Tree achieves a mean accuracy result of 73.625 over a 10-fold validation set\n",
      "The K-Nearest Neighbours achieves a mean accuracy result of 74.62500000000001 over a 10-fold validation set\n",
      "The Linear Discriminant Analysis achieves a mean accuracy result of 79.03125 over a 10-fold validation set\n",
      "The Naive Bayes achieves a mean accuracy result of 65.40625 over a 10-fold validation set\n",
      "The Boosting achieves a mean accuracy result of 82.0625 over a 10-fold validation set\n",
      "The Ensemble achieves a mean accuracy result of 82.37500000000001 over a 10-fold validation set\n"
     ]
    }
   ],
   "source": [
    "#Now lets run using k-fold cross validation to get the best \n",
    "#We will run them with some standard parameters just to get an idea of the best 3 and then do some further analysis on those\n",
    "cv = KFold(n_splits=10, random_state=1, shuffle=True)\n",
    "scoring = ['accuracy']\n",
    "\n",
    "models = [\n",
    "          ('Logistic Regression', LogisticRegression()), \n",
    "          ('Support Vector Machine Linear', svm.SVC(kernel='linear', gamma='auto')),\n",
    "          ('Support Vector Machine Rbf', svm.SVC(kernel='rbf', gamma='auto')),\n",
    "          ('Support Vector Machine NuSVC', svm.NuSVC(gamma='auto')), \n",
    "          ('Random Forest', RandomForestClassifier(n_estimators = 100, random_state=1)),\n",
    "          ('Decision Tree', DecisionTreeClassifier(max_depth=1)),\n",
    "          ('K-Nearest Neighbours', KNeighborsClassifier(n_neighbors=5)), \n",
    "          ('Linear Discriminant Analysis', LinearDiscriminantAnalysis()),\n",
    "          ('Naive Bayes', MultinomialNB()),\n",
    "          ('Boosting', GradientBoostingClassifier(n_estimators=100, learning_rate=1, max_depth=1, random_state=1)), \n",
    "          ('Ensemble', VotingClassifier(estimators=[('boost', GradientBoostingClassifier(n_estimators=100, learning_rate=1, max_depth=1, random_state=1)), ('SVM', svm.NuSVC(gamma='auto')) , ('rf', RandomForestClassifier(n_estimators = 100, random_state=1))], voting = 'hard'))\n",
    "        ]\n",
    "\n",
    "for name, model in models:\n",
    "\n",
    "    kfold = model_selection.KFold(n_splits=10, shuffle=True, random_state=1)\n",
    "    cv_results = model_selection.cross_validate(model, X_train, y_train, cv=kfold, scoring=scoring)\n",
    "    avg_accuracy = np.mean(cv_results['test_accuracy']) * 100 \n",
    "    print(f\"The {name} achieves a mean accuracy result of {avg_accuracy} over a 10-fold validation set\")\n",
    "    "
   ]
  },
  {
   "cell_type": "markdown",
   "metadata": {},
   "source": [
    "# Random Under-Sampling and Random Over-Sampling Results\n",
    "As we can see below the under-sampling approach led to little or no improvement which over-sampling actually led to quite an impressive increase in performance in some of the algorithm. This can be especially be seen in the Random Forest model which previously had been the best performing algorithm. Over-Sampling led to an icnrease of almost 5% in accuracy which is a significant gain for such a simple approach. This approach is therefore highly valuable because the otehr solution would be to gather more data which as we know is a costly process. This means that from this point onwards we will train the models on the Over-Sampled datasets."
   ]
  },
  {
   "cell_type": "code",
   "execution_count": 45,
   "metadata": {},
   "outputs": [
    {
     "name": "stdout",
     "output_type": "stream",
     "text": [
      "Over-Sampling Results\n",
      "The Logistic Regression achieves a mean accuracy result of 79.44383688980629 over a 10-fold validation set\n",
      "The Support Vector Machine Linear achieves a mean accuracy result of 79.80991893702239 over a 10-fold validation set\n",
      "The Support Vector Machine Rbf achieves a mean accuracy result of 79.234959605211 over a 10-fold validation set\n",
      "The Support Vector Machine NuSVC achieves a mean accuracy result of 81.61421951252854 over a 10-fold validation set\n",
      "The Random Forest achieves a mean accuracy result of 87.00285702568588 over a 10-fold validation set\n",
      "The Decision Tree achieves a mean accuracy result of 72.51466105286181 over a 10-fold validation set\n",
      "The K-Nearest Neighbours achieves a mean accuracy result of 76.22865774472682 over a 10-fold validation set\n",
      "The Linear Discriminant Analysis achieves a mean accuracy result of 79.18226183478463 over a 10-fold validation set\n",
      "The Naive Bayes achieves a mean accuracy result of 62.786283542711864 over a 10-fold validation set\n",
      "The Boosting achieves a mean accuracy result of 82.7136959523191 over a 10-fold validation set\n",
      "The Ensemble achieves a mean accuracy result of 84.151299331538 over a 10-fold validation set\n",
      "\n",
      "\n",
      "Under-Sampling Results\n",
      "The Logistic Regression achieves a mean accuracy result of 79.23114046994239 over a 10-fold validation set\n",
      "The Support Vector Machine Linear achieves a mean accuracy result of 79.50260911531385 over a 10-fold validation set\n",
      "The Support Vector Machine Rbf achieves a mean accuracy result of 78.02838355503272 over a 10-fold validation set\n",
      "The Support Vector Machine NuSVC achieves a mean accuracy result of 80.97653304376678 over a 10-fold validation set\n",
      "The Random Forest achieves a mean accuracy result of 81.9483907941966 over a 10-fold validation set\n",
      "The Decision Tree achieves a mean accuracy result of 71.73785177811963 over a 10-fold validation set\n",
      "The K-Nearest Neighbours achieves a mean accuracy result of 72.78617319699575 over a 10-fold validation set\n",
      "The Linear Discriminant Analysis achieves a mean accuracy result of 79.0365879407595 over a 10-fold validation set\n",
      "The Naive Bayes achieves a mean accuracy result of 62.53853346605134 over a 10-fold validation set\n",
      "The Boosting achieves a mean accuracy result of 81.5983470575815 over a 10-fold validation set\n",
      "The Ensemble achieves a mean accuracy result of 82.49072482128315 over a 10-fold validation set\n"
     ]
    }
   ],
   "source": [
    "#Here we are going to test the over and under sampling methods to see if they helped the accuracy \n",
    "results = {}\n",
    "\n",
    "print(\"Over-Sampling Results\")\n",
    "for name, model in models:\n",
    "\n",
    "    kfold = model_selection.KFold(n_splits=10, shuffle=True, random_state=1)\n",
    "    cv_results = model_selection.cross_validate(model, X_over, y_over, cv=kfold, scoring=scoring)\n",
    "    avg_accuracy = np.mean(cv_results['test_accuracy']) * 100 \n",
    "    print(f\"The {name} achieves a mean accuracy result of {avg_accuracy} over a 10-fold validation set\")\n",
    "    results[name] = avg_accuracy\n",
    "\n",
    "print()\n",
    "print()\n",
    "\n",
    "print(\"Under-Sampling Results\")\n",
    "for name, model in models:\n",
    "\n",
    "    kfold = model_selection.KFold(n_splits=10, shuffle=True, random_state=1)\n",
    "    cv_results = model_selection.cross_validate(model, X_under, y_under, cv=kfold, scoring=scoring)\n",
    "    avg_accuracy = np.mean(cv_results['test_accuracy']) * 100 \n",
    "    print(f\"The {name} achieves a mean accuracy result of {avg_accuracy} over a 10-fold validation set\")\n"
   ]
  },
  {
   "cell_type": "code",
   "execution_count": 46,
   "metadata": {},
   "outputs": [
    {
     "name": "stdout",
     "output_type": "stream",
     "text": [
      "The models with the top 3 results are: \n",
      "- Random Forest\n",
      "- Ensemble\n",
      "- Boosting\n"
     ]
    }
   ],
   "source": [
    "top_3_models = sorted(results, key=results.get, reverse=True)[:3]\n",
    "\n",
    "for i in range(len(top_3_models)):\n",
    "    if(i == 0):\n",
    "        print(\"The models with the top 3 results are: \")\n",
    "        print(\"-\", top_3_models[i])\n",
    "    else:\n",
    "        print(\"-\", top_3_models[i])"
   ]
  },
  {
   "cell_type": "markdown",
   "metadata": {},
   "source": [
    "# Hyperparameter Tuning using Grid-Search\n",
    "\n",
    "Here I have carried out grid-search for each of the three top performing algorithms. Grid-search involves testing all combinations of the chosen hyperparameters and is a very effective means of exhaustively testing the chosen combinations fo the hyperparameters in an aim to get the best combination. This is an NP hard problem however and grows exponentially in time complexity as more parameters are added."
   ]
  },
  {
   "cell_type": "code",
   "execution_count": 56,
   "metadata": {},
   "outputs": [
    {
     "name": "stdout",
     "output_type": "stream",
     "text": [
      "{'criterion': 'gini', 'max_depth': 10, 'max_features': 'auto', 'n_estimators': 40}\n"
     ]
    }
   ],
   "source": [
    "#Now lets take the top 3 and get the best parameters using grid search and then do some analysis of the scores of them\n",
    "#('Boosting', GradientBoostingClassifier(n_estimators=100, learning_rate=1, max_depth=1, random_state=1)), \n",
    "#('Random Forest', RandomForestClassifier(n_estimators = 100, random_state=1)),\n",
    "#('Support Vector Machine NuSVC', svm.NuSVC(gamma='auto')), \n",
    "\n",
    "RFModel = RandomForestClassifier(random_state=1)\n",
    "\n",
    "#By doing this grid search we are essentially searching for the parameters that reduce overfitting the most\n",
    "\n",
    "param_grid  = { \n",
    "    #Number of trees to create \n",
    "    #The more this is the less likely overfitting is as it becomes less and less like a decision tree \n",
    "    'n_estimators': [40, 60, 80, 100, 200],\n",
    "    #How many features we consider per tree as a starting point \n",
    "    #The lower this is the less likely overfitting is \n",
    "    'max_features': ['auto', 'sqrt', 'log2'],\n",
    "    #How large is the trees max depth \n",
    "    'max_depth' : [2,5,6,7,8,9,10, None],\n",
    "    #Which impurity measure to use in the split\n",
    "    'criterion' :['gini', 'entropy']\n",
    "}\n",
    "\n",
    "GS_RF = GridSearchCV(estimator=RFModel, param_grid=param_grid, cv= 5)\n",
    "GS_RF.fit(X_over, y_over)\n",
    "print(GS_RF.best_params_)\n",
    "\n",
    "\n",
    "#Grid search for Boosting \n",
    "BoostingModel = GradientBoostingClassifier(random_state=1)\n",
    "\n",
    "param_grid  = { \n",
    "    #Number of boosting stages to carry out \n",
    "    'n_estimators': [100, 200, 400, 500, 800],\n",
    "    #How many features we consider per tree as a starting point \n",
    "    'learning_rate': [0.001, 0.005, 0.01, 0.1, 0.5],\n",
    "    #How large is the trees max depth \n",
    "    'max_depth' : [3,4,5,7,9],\n",
    "    #Which impurity measure to use in the split\n",
    "    'max_features': ['auto', 'sqrt', 'log2'],\n",
    "}\n",
    "\n",
    "GSBoosting = GridSearchCV(estimator=BoostingModel, param_grid=param_grid, cv= 5)\n",
    "GSBoosting.fit(X_over, y_over)\n",
    "print(GSBoosting.best_params_)\n",
    "\n",
    "\n",
    "SVMModel = svm.NuSVC()\n",
    "\n",
    "param_grid = {'nu': [0.1, 0.3, 0.5, 0.7, 0.9], \n",
    "              'gamma': ['scale', 'auto'],\n",
    "              'kernel': ['linear', 'poly', 'rbf']}\n",
    "\n",
    "GS_SVM = GridSearchCV(estimator=SVMModel, param_grid=param_grid, cv= 5)\n",
    "GS_SVM.fit(X_over, y_over)\n",
    "print(GS_SVM.best_params_)\n"
   ]
  },
  {
   "cell_type": "markdown",
   "metadata": {},
   "source": [
    "# Improvement in Results Post Grid-Search"
   ]
  },
  {
   "cell_type": "code",
   "execution_count": 63,
   "metadata": {},
   "outputs": [
    {
     "name": "stdout",
     "output_type": "stream",
     "text": [
      "The Random Forest Model achieves a mean accuracy result of 87.05534974642187 over a 10-fold validation set\n",
      "The Support Vector Machine NuSVC achieves a mean accuracy result of 81.61421951252854 over a 10-fold validation set\n",
      "The Boosting achieves a mean accuracy result of 84.12573647013792 over a 10-fold validation set\n",
      "The An Ensemble achieves a mean accuracy result of 84.59577871037416 over a 10-fold validation set\n"
     ]
    }
   ],
   "source": [
    "#Best parameters for the Random Forest Model\n",
    "#{'criterion': 'gini', 'max_depth': None, 'max_features': 'auto', 'n_estimators': 40}\n",
    "RFModel = RandomForestClassifier(criterion= 'gini', max_depth= None, max_features= 'auto', n_estimators= 40, random_state=1)\n",
    "\n",
    "#Best parameters for the Boosting Model\n",
    "#{'learning_rate': 0.01, 'max_depth': 5, 'max_features': 'sqrt', 'n_estimators': 500}\n",
    "BoostingModel = GradientBoostingClassifier(learning_rate=0.01, max_depth=5, max_features='sqrt', n_estimators=500, random_state=1)\n",
    "\n",
    "#Best parameters for the SVM Model \n",
    "#{'gamma': 'auto', 'kernel': 'rbf', 'nu': 0.5}\n",
    "SVMModel = svm.NuSVC(gamma = 'auto', kernel = 'rbf', nu = 0.5)\n",
    "\n",
    "#Ensemble model combines all 3 \n",
    "Ensemble = VotingClassifier(estimators=[('boost', BoostingModel), ('SVM', SVMModel) , ('rf', RFModel)], voting = 'hard')\n",
    "\n",
    "models = [\n",
    "          ('Random Forest Model', RFModel),\n",
    "          ('Support Vector Machine NuSVC', SVMModel), \n",
    "          ('Boosting', BoostingModel), \n",
    "          ('An Ensemble', Ensemble)\n",
    "        ]\n",
    "\n",
    "for name, model in models:\n",
    "\n",
    "    kfold = model_selection.KFold(n_splits=10, shuffle=True, random_state=1)\n",
    "    cv_results = model_selection.cross_validate(model, X_over, y_over, cv=kfold, scoring=scoring)\n",
    "    avg_accuracy = np.mean(cv_results['test_accuracy']) * 100 \n",
    "    print(f\"The {name} achieves a mean accuracy result of {avg_accuracy} over a 10-fold validation set\")"
   ]
  },
  {
   "cell_type": "markdown",
   "metadata": {},
   "source": [
    "# Model Evaluation\n",
    "As I explained at the top of this file, we are aiming to maximise the number of true positives and essentially minimise false negatives. I believe there is less of a cost to misclassifying some samples where the caller would not buy the insurance and therefore I believe that when working with models of similar overall accuracy the recall of the positive case becomes more important than the overall accuracy. This is especially compounded by the fact this dataset is imbalanced and therefore it is better at classifying the negative samples. As we can see from the metrics below the Boosting algorithm has the best Recall score for the positive class. "
   ]
  },
  {
   "cell_type": "code",
   "execution_count": 71,
   "metadata": {},
   "outputs": [
    {
     "name": "stdout",
     "output_type": "stream",
     "text": [
      "Results for the Boosting Model: \n",
      "              precision    recall  f1-score   support\n",
      "\n",
      "           0       0.88      0.82      0.85       484\n",
      "           1       0.75      0.83      0.79       316\n",
      "\n",
      "    accuracy                           0.82       800\n",
      "   macro avg       0.82      0.83      0.82       800\n",
      "weighted avg       0.83      0.82      0.83       800\n",
      "\n",
      "\n",
      "\n",
      "Results for the Ensemble Model: \n",
      "              precision    recall  f1-score   support\n",
      "\n",
      "           0       0.87      0.83      0.85       484\n",
      "           1       0.76      0.82      0.79       316\n",
      "\n",
      "    accuracy                           0.82       800\n",
      "   macro avg       0.82      0.82      0.82       800\n",
      "weighted avg       0.83      0.82      0.83       800\n",
      "\n",
      "\n",
      "\n",
      "Results for the Random Forest Model: \n",
      "              precision    recall  f1-score   support\n",
      "\n",
      "           0       0.87      0.85      0.86       484\n",
      "           1       0.77      0.81      0.79       316\n",
      "\n",
      "    accuracy                           0.83       800\n",
      "   macro avg       0.82      0.83      0.82       800\n",
      "weighted avg       0.83      0.83      0.83       800\n",
      "\n",
      "\n",
      "\n",
      "Results for the SVM Model: \n",
      "              precision    recall  f1-score   support\n",
      "\n",
      "           0       0.86      0.83      0.84       484\n",
      "           1       0.75      0.79      0.77       316\n",
      "\n",
      "    accuracy                           0.81       800\n",
      "   macro avg       0.80      0.81      0.81       800\n",
      "weighted avg       0.82      0.81      0.81       800\n",
      "\n"
     ]
    }
   ],
   "source": [
    "#This will give the Precision, Recall and the F1 score\n",
    "print(\"Results for the Boosting Model: \")\n",
    "BoostingModel.fit(X_over, y_over)\n",
    "Boosting_predictions = BoostingModel.predict(X_test)\n",
    "BoostingReport = classification_report(y_test, Boosting_predictions)\n",
    "print(BoostingReport)\n",
    "\n",
    "print()\n",
    "print()\n",
    "\n",
    "print(\"Results for the Ensemble Model: \")\n",
    "\n",
    "Ensemble.fit(X_over, y_over)\n",
    "Ensemble_predictions = Ensemble.predict(X_test)\n",
    "EnsembleReport = classification_report(y_test, Ensemble_predictions)\n",
    "print(EnsembleReport)\n",
    "\n",
    "print()\n",
    "print()\n",
    "\n",
    "print(\"Results for the Random Forest Model: \")\n",
    "RFModel.fit(X_over, y_over)\n",
    "RFModel_predictions = RFModel.predict(X_test)\n",
    "RFModelReport = classification_report(y_test, RFModel_predictions)\n",
    "print(RFModelReport)\n",
    "\n",
    "print()\n",
    "print()\n",
    "\n",
    "print(\"Results for the SVM Model: \")\n",
    "SVMModel.fit(X_over, y_over)\n",
    "SVM_predictions = SVMModel.predict(X_test)\n",
    "SVMReport = classification_report(y_test, SVM_predictions)\n",
    "print(SVMReport)\n",
    "\n"
   ]
  },
  {
   "cell_type": "markdown",
   "metadata": {},
   "source": [
    "# Confusion Matrix Evalution\n",
    "When looking at this problem where we are aiming to correctly classify whether a person will be a good candidate to cold call I believe that a successful algorithm should be aiming to have as high of an accuracy as possible. However, I also believe it is essential to have True Positives as high as possible as these are the people who will in fact buy the insurance. Therefore, we are aiming to reduce the False Negative number while increasing the True Positive number to be as high as possible. If we take this into consideration then actually the Boosting model has the best results. The reason I believe that this is true is because there is a big benefit in getting as many people correct that would buy the insurance wheras the cost to calling a person who has no interest will typically lead to a short call and therefore very little time wasted. Thus I believe that getting as many True Positives is essential. "
   ]
  },
  {
   "cell_type": "code",
   "execution_count": 70,
   "metadata": {},
   "outputs": [
    {
     "name": "stdout",
     "output_type": "stream",
     "text": [
      "Boosting Model Confusion Matrix:\n"
     ]
    },
    {
     "data": {
      "image/png": "[encoded data removed]",
      "text/plain": [
       "<Figure size 432x288 with 2 Axes>"
      ]
     },
     "metadata": {
      "needs_background": "light"
     },
     "output_type": "display_data"
    },
    {
     "name": "stdout",
     "output_type": "stream",
     "text": [
      "\n",
      "\n",
      "Ensemble Model Confusion Matrix:\n"
     ]
    },
    {
     "data": {
      "image/png": "[encoded data removed]",
      "text/plain": [
       "<Figure size 432x288 with 2 Axes>"
      ]
     },
     "metadata": {
      "needs_background": "light"
     },
     "output_type": "display_data"
    },
    {
     "name": "stdout",
     "output_type": "stream",
     "text": [
      "\n",
      "\n",
      "Random Forest Model Confusion Matrix:\n"
     ]
    },
    {
     "data": {
      "image/png": "[encoded data removed]",
      "text/plain": [
       "<Figure size 432x288 with 2 Axes>"
      ]
     },
     "metadata": {
      "needs_background": "light"
     },
     "output_type": "display_data"
    },
    {
     "name": "stdout",
     "output_type": "stream",
     "text": [
      "\n",
      "\n",
      "SVM Model Confusion Matrix:\n"
     ]
    },
    {
     "data": {
      "image/png": "[encoded data removed]",
      "text/plain": [
       "<Figure size 432x288 with 2 Axes>"
      ]
     },
     "metadata": {
      "needs_background": "light"
     },
     "output_type": "display_data"
    }
   ],
   "source": [
    "#This will give us a confusion martrix with True Positive, True Negative, False Positive and False Negatives\n",
    "\n",
    "print(\"Boosting Model Confusion Matrix:\")\n",
    "plot_confusion_matrix(BoostingModel, X_test, y_test)  \n",
    "plt.show()\n",
    "\n",
    "print()\n",
    "print()\n",
    "\n",
    "print(\"Ensemble Model Confusion Matrix:\")\n",
    "plot_confusion_matrix(Ensemble, X_test, y_test)  \n",
    "plt.show()\n",
    "\n",
    "print()\n",
    "print()\n",
    "\n",
    "print(\"Random Forest Model Confusion Matrix:\")\n",
    "plot_confusion_matrix(RFModel, X_test, y_test)  \n",
    "plt.show()\n",
    "\n",
    "print()\n",
    "print()\n",
    "\n",
    "print(\"SVM Model Confusion Matrix:\")\n",
    "plot_confusion_matrix(SVMModel, X_test, y_test)  \n",
    "plt.show()\n"
   ]
  },
  {
   "cell_type": "code",
   "execution_count": 27,
   "metadata": {},
   "outputs": [],
   "source": [
    "#Save the models that we will use in the REST API\n",
    "p.dump(RFModel, open('RandomForest.pickle', 'wb'))\n",
    "p.dump(BoostingModel, open('BoostingModel.pickle', 'wb'))"
   ]
  },
  {
   "cell_type": "markdown",
   "metadata": {},
   "source": [
    "# ROC Curve and Area Under ROC Curve Evaluation\n",
    "The ROC curve illustrates the trade-off between the True Positive Rate (TPR) and the False Positive Rate (FPR). It essentially looks at how these change as we alter the classification threshold. It essentially highlights the relationship between the TPR and the FPR and essentially shows how an improvement in one affects the other. In some applications False Negatives are detrimental such as detecting cancer so extra emphasis will be put in place to reduce these while allowing for increased False Positives. In this scenario I believe that extra emphasis should be places as in detecting cancer on minimising False Negatives. These ROC curves and thus the Area Under the ROC curves that we obtain from these algorithms are both very similar and very good. They tell us we can achieve a good TPR rate without increasing the FPR too much. Again recall that the most imporant thing here is the TPR as we are trying to maximise this ratio as it is Recall which I have highlighted to be of high importance in earlier evaluation. "
   ]
  },
  {
   "cell_type": "code",
   "execution_count": 28,
   "metadata": {
    "scrolled": true
   },
   "outputs": [
    {
     "name": "stdout",
     "output_type": "stream",
     "text": [
      "AUC: 0.889 (0.040)\n",
      "AUC: 0.888 (0.038)\n",
      "AUC: 0.888 (0.037)\n"
     ]
    }
   ],
   "source": [
    "#This will give the Area Under the ROC Curve\n",
    "scoring = 'roc_auc'\n",
    "results = model_selection.cross_val_score(BoostingModel, X_test, y_test, cv=kfold, scoring=scoring)\n",
    "print(\"AUC: %.3f (%.3f)\" % (results.mean(), results.std()))\n",
    "\n",
    "results = model_selection.cross_val_score(RFModel, X_test, y_test, cv=kfold, scoring=scoring)\n",
    "print(\"AUC: %.3f (%.3f)\" % (results.mean(), results.std()))\n",
    "\n",
    "results = model_selection.cross_val_score(SVMModel, X_test, y_test, cv=kfold, scoring=scoring)\n",
    "print(\"AUC: %.3f (%.3f)\" % (results.mean(), results.std()))"
   ]
  },
  {
   "cell_type": "code",
   "execution_count": 29,
   "metadata": {},
   "outputs": [
    {
     "data": {
      "image/png": "[encoded data removed]",
      "text/plain": [
       "<Figure size 432x288 with 1 Axes>"
      ]
     },
     "metadata": {
      "needs_background": "light"
     },
     "output_type": "display_data"
    }
   ],
   "source": [
    "#ROC Curve for the Boosting Model\n",
    "y_preds = BoostingModel.predict_proba(X_test)\n",
    "skplt.metrics.plot_roc_curve(y_test, y_preds)\n",
    "plt.show()"
   ]
  },
  {
   "cell_type": "code",
   "execution_count": 30,
   "metadata": {},
   "outputs": [
    {
     "data": {
      "image/png": "[encoded data removed]",
      "text/plain": [
       "<Figure size 432x288 with 1 Axes>"
      ]
     },
     "metadata": {
      "needs_background": "light"
     },
     "output_type": "display_data"
    }
   ],
   "source": [
    "#ROC Curve for the Random Forest Model\n",
    "y_preds = RFModel.predict_proba(X_test)\n",
    "skplt.metrics.plot_roc_curve(y_test, y_preds)\n",
    "plt.show()"
   ]
  },
  {
   "cell_type": "code",
   "execution_count": 53,
   "metadata": {},
   "outputs": [],
   "source": [
    "#Do some preprocessing on the test data\n",
    "x_test_processed = preprocess_data(test_df)\n",
    "x_test_processed = x_test_processed.drop(labels='CarInsurance', axis=1)\n",
    "y_test_vals = test_df[output_column]"
   ]
  },
  {
   "cell_type": "markdown",
   "metadata": {},
   "source": [
    "# REST API Unit Testing\n",
    "\n",
    "Here I have included some unit tests to test the functionality of the REST API. It is worth noting that if this were to be for a production system the testing would have to be much more rigerous and many more test would be included. "
   ]
  },
  {
   "cell_type": "code",
   "execution_count": 75,
   "metadata": {},
   "outputs": [],
   "source": [
    "#and here will be the client \n",
    "import requests\n",
    "import json\n",
    "import unittest\n",
    "\n",
    "#This is to test the predictions of new samples\n",
    "def test_predictions():\n",
    "\n",
    "    url = 'http://127.0.0.1:1080/algorithm' \n",
    "\n",
    "    #Test a sample that is predicted as a 0\n",
    "    new = x_test_processed.iloc[0].to_json(orient='split')\n",
    "\n",
    "    response = requests.post(url, json=new)\n",
    "    expected_res = {'Prediction': 0}\n",
    "    assert response.json() == expected_res, \"Should have returned a 0\"\n",
    "\n",
    "\n",
    "    #Test a sample that is predicted as a 1\n",
    "    new = x_test_processed.iloc[7].to_json(orient='split')\n",
    "\n",
    "    response = requests.post(url, json=new)\n",
    "    expected_res = {'Prediction': 1}\n",
    "    assert response.json() == expected_res, \"Should have returned a 1\"\n",
    "\n",
    "\n",
    "\n",
    "#This is to test the predictions of new samples\n",
    "def test_retraining():\n",
    "\n",
    "    url = 'http://127.0.0.1:1080/retrain' \n",
    "\n",
    "    X_train['CarInsurance'] = y_train \n",
    "    comb_df = X_train\n",
    "\n",
    "    new = comb_df.to_json(orient='split')\n",
    "\n",
    "    response = requests.post(url, json=new)\n",
    "    expected_res = 200\n",
    "    assert response.json() == expected_res, \"Should have seen a return code of 200\"\n",
    "\n",
    "\n",
    "#This is to test the changing of the model\n",
    "def test_modelChange():\n",
    "\n",
    "    #Now we want to change the model \n",
    "    url = 'http://127.0.0.1:1080/change_model' \n",
    "\n",
    "    new_model = {\"model\":\"BoostingModel.pickle\"}\n",
    "\n",
    "    model_json = json.dumps(new_model)\n",
    "\n",
    "    response = requests.post(url, json=model_json)\n",
    "    expected_res = 200\n",
    "\n",
    "    assert response.json() == expected_res, \"Should have seen a return code of 200\"\n",
    "\n",
    "\n",
    "#This is to test the method to get the model we are using \n",
    "def test_modelName():\n",
    "    \n",
    "    #Now we want to check which model is in use  \n",
    "    #As we can see this method can be used to unit test the functionality of changing the model \n",
    "    url = 'http://127.0.0.1:1080/algorithm'  \n",
    "\n",
    "    response = requests.get(url)\n",
    "    expected_res = \"GradientBoostingClassifier\"\n",
    "\n",
    "    assert response.json() == expected_res, \"Should have seen a return code of 200\"\n",
    "\n",
    "\n",
    "#This is to test the retrieving all the data from the database\n",
    "def test_dataRetrieval(empty_test):\n",
    "    \n",
    "    #Now we will check that we can retrive all of the database samples\n",
    "    url = 'http://127.0.0.1:1080/database'  \n",
    "    \n",
    "    if (empty_test == False):\n",
    "        response = requests.get(url)\n",
    "\n",
    "        assert len(response.json()) >= 1, \"Should have seen a return code of 200\"\n",
    "    else:\n",
    "        response = requests.get(url)\n",
    "        expected_res = \"The database is empty\"\n",
    "\n",
    "        assert response.json() == expected_res, \"Should see a database empty error\"      \n",
    "\n",
    "#This is to test updating the database sample at a specified index with new data \n",
    "def test_dataUpdate():\n",
    "    \n",
    "    url = 'http://127.0.0.1:1080/database'  \n",
    "\n",
    "    index = 0\n",
    "    data = x_test_processed.iloc[0, :]\n",
    "\n",
    "    data['index'] = index\n",
    "\n",
    "    model_json = data.to_json(orient = 'columns')\n",
    "    expected_res = 200\n",
    "\n",
    "    response = requests.put(url, json=model_json)\n",
    "    assert response.json() == expected_res, \"Should have seen a return code of 200\"\n",
    "    \n",
    "    index = 50\n",
    "    data = x_test_processed.iloc[0, :]\n",
    "\n",
    "    data['index'] = index\n",
    "\n",
    "    model_json = data.to_json(orient = 'columns')\n",
    "    expected_res = \"Error - The sample index supplied is not in the database\"\n",
    "\n",
    "    response = requests.put(url, json=model_json)\n",
    "    assert response.json() == expected_res, \"Should have seen an error code as the index is too big\"\n",
    "\n",
    "\n",
    "#This is a test to see if the data entry at a specified index is deleted correctly\n",
    "def test_deletion():\n",
    "\n",
    "    #Now we test to make sure we can delete records from the database \n",
    "    url = 'http://127.0.0.1:1080/database'  \n",
    "\n",
    "    #Test an example where we can delete the data\n",
    "    index = \"0\"\n",
    "    model_json = json.dumps(0)\n",
    "    expected_res = 200\n",
    "    response = requests.delete(url, json=model_json)\n",
    "    assert response.json() == expected_res, \"Should have seen a return code of 200\"\n",
    "\n",
    "    #Test one that is out of bounds so we are testing the error detection\n",
    "    index = \"50\"\n",
    "    model_json = json.dumps(0)\n",
    "    response = requests.delete(url, json=model_json)    \n",
    "    expected_res = \"Error - The sample index supplied is not in the database\"\n",
    "    assert response.json() == expected_res, \"Should have seen an error code to say index is not in database\""
   ]
  },
  {
   "cell_type": "code",
   "execution_count": 78,
   "metadata": {},
   "outputs": [
    {
     "name": "stdout",
     "output_type": "stream",
     "text": [
      "Everything passed\n"
     ]
    }
   ],
   "source": [
    "if __name__ == \"__main__\":\n",
    "    test_dataRetrieval(True)\n",
    "    test_predictions()\n",
    "    test_retraining()\n",
    "    test_modelChange()\n",
    "    test_modelChange()\n",
    "    test_dataRetrieval(False)\n",
    "    test_dataUpdate()\n",
    "    \n",
    "    print(\"Everything passed\")\n",
    "    \n"
   ]
  }
 ],
 "metadata": {
  "kernelspec": {
   "display_name": "Python 3",
   "language": "python",
   "name": "python3"
  },
  "language_info": {
   "codemirror_mode": {
    "name": "ipython",
    "version": 3
   },
   "file_extension": ".py",
   "mimetype": "text/x-python",
   "name": "python",
   "nbconvert_exporter": "python",
   "pygments_lexer": "ipython3",
   "version": "3.8.3"
  }
 },
 "nbformat": 4,
 "nbformat_minor": 4
}
