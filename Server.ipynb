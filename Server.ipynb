{
 "cells": [
  {
   "cell_type": "markdown",
   "metadata": {},
   "source": [
    "We must detail that we are using a dictionary instead of a database which would be used in a production environment "
   ]
  },
  {
   "cell_type": "code",
   "execution_count": null,
   "metadata": {},
   "outputs": [
    {
     "name": "stdout",
     "output_type": "stream",
     "text": [
      " * Serving Flask app \"__main__\" (lazy loading)\n",
      " * Environment: production\n",
      "   WARNING: This is a development server. Do not use it in a production deployment.\n",
      "   Use a production WSGI server instead.\n",
      " * Debug mode: on\n"
     ]
    },
    {
     "name": "stderr",
     "output_type": "stream",
     "text": [
      " * Running on http://127.0.0.1:1080/ (Press CTRL+C to quit)\n",
      "127.0.0.1 - - [06/Jun/2021 16:46:13] \"\u001b[37mPOST /predict HTTP/1.1\u001b[0m\" 200 -\n"
     ]
    },
    {
     "name": "stdout",
     "output_type": "stream",
     "text": [
      "1\n"
     ]
    },
    {
     "name": "stderr",
     "output_type": "stream",
     "text": [
      "127.0.0.1 - - [06/Jun/2021 16:53:50] \"\u001b[37mPOST /predict HTTP/1.1\u001b[0m\" 200 -\n"
     ]
    },
    {
     "name": "stdout",
     "output_type": "stream",
     "text": [
      "2\n"
     ]
    },
    {
     "name": "stderr",
     "output_type": "stream",
     "text": [
      "127.0.0.1 - - [06/Jun/2021 16:56:14] \"\u001b[37mPOST /predict HTTP/1.1\u001b[0m\" 200 -\n"
     ]
    },
    {
     "name": "stdout",
     "output_type": "stream",
     "text": [
      "3\n"
     ]
    }
   ],
   "source": [
    "# app.py\n",
    "from flask import Flask\n",
    "from flask_restful import Api, Resource, reqparse\n",
    "import numpy as np\n",
    "import pickle as p\n",
    "import sys\n",
    "\n",
    "APP = Flask(__name__)\n",
    "API = Api(APP)\n",
    "sampleID = 0\n",
    "\n",
    "loaded_model = p.load(open('RandomForest.pickle', 'rb'))\n",
    "samples = {}\n",
    "\n",
    "class Predict(Resource):\n",
    "       \n",
    "#Post here will classify a new sample\n",
    "    @staticmethod\n",
    "    def post():\n",
    "        global sampleID\n",
    "        json_ = request.get_json()\n",
    "        d = json.loads(json_)\n",
    "        \n",
    "        \n",
    "        dictionary = {}\n",
    "  \n",
    "        for i in range(len(d['data'])):\n",
    "            name = d['index'][i]\n",
    "            dictionary[name] = d['data'][i]\n",
    "        \n",
    "        query = pd.DataFrame(dictionary, index=[0])\n",
    "\n",
    "        prediction = loaded_model.predict(query)\n",
    "\n",
    "        out = {'Prediction': int(prediction[0])}\n",
    "        \n",
    "        #so now we should append this to the samples dictionary \n",
    "        sample = d['data'] + prediction[0]\n",
    "        \n",
    "        #append the sample to the dictionary\n",
    "        samples[sampleID] = sample \n",
    "        sampleID += 1\n",
    "        \n",
    "        \n",
    "        return out\n",
    "    \n",
    "    \n",
    "    \n",
    "    \n",
    "    \n",
    "class Retrain(Resource):\n",
    "\n",
    "    #Post here will retrain the model with new data \n",
    "    @staticmethod\n",
    "    def post():\n",
    "\n",
    "        json_ = request.get_json()\n",
    "        d = json.loads(json_)\n",
    "        print(d)\n",
    "\n",
    "\n",
    "        \n",
    "        #So lets write this data to a database \n",
    "        \n",
    "        return out\n",
    "    \n",
    "#GET  - This will query the database to get all the samples \n",
    "#POST - This query where we will classify a new sample\n",
    "#PUT  - This query will update the a specific ID \n",
    "#DELETE - This query will delete the specified record \n",
    "\n",
    "    \n",
    "    \n",
    "#Also need to add functionality to retrain the model\n",
    "\n",
    "#Add functionality to wipe the database \n",
    "\n",
    "\n",
    "\n",
    "\n",
    "API.add_resource(Predict, '/predict')\n",
    "API.add_resource(Retrain, '/retrain')\n",
    "\n",
    "if __name__ == '__main__':\n",
    "    APP.run(debug=True, port='1080', use_reloader=False)"
   ]
  },
  {
   "cell_type": "code",
   "execution_count": null,
   "metadata": {},
   "outputs": [],
   "source": []
  }
 ],
 "metadata": {
  "kernelspec": {
   "display_name": "Python 3",
   "language": "python",
   "name": "python3"
  },
  "language_info": {
   "codemirror_mode": {
    "name": "ipython",
    "version": 3
   },
   "file_extension": ".py",
   "mimetype": "text/x-python",
   "name": "python",
   "nbconvert_exporter": "python",
   "pygments_lexer": "ipython3",
   "version": "3.8.3"
  }
 },
 "nbformat": 4,
 "nbformat_minor": 4
}
